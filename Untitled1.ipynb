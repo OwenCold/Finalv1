{
 "cells": [
  {
   "cell_type": "code",
   "execution_count": 1,
   "id": "12a9e207-cf97-4f68-8698-c348b58426ce",
   "metadata": {},
   "outputs": [],
   "source": [
    "import pandas as pd\n",
    "import numpy as np\n",
    "from matplotlib import pyplot as plt\n",
    "import json"
   ]
  },
  {
   "cell_type": "code",
   "execution_count": 2,
   "id": "1a4fdf10-2f14-491c-afea-2bbbe3692301",
   "metadata": {},
   "outputs": [],
   "source": [
    "with open(\"ads_viewed0.json\") as j:\n",
    "    ads0 = json.load(j)"
   ]
  },
  {
   "cell_type": "code",
   "execution_count": 3,
   "id": "eee08095-df26-42ac-a942-2b66c1c15c30",
   "metadata": {},
   "outputs": [],
   "source": [
    "with open(\"ads_viewed1.json\") as j:\n",
    "    ads1 = json.load(j)"
   ]
  },
  {
   "cell_type": "code",
   "execution_count": 4,
   "id": "d3fb860e-75f1-4086-a1bc-464652b89522",
   "metadata": {},
   "outputs": [],
   "source": [
    "with open(\"ads_viewed2.json\") as j:\n",
    "    ads2 = json.load(j)"
   ]
  },
  {
   "cell_type": "code",
   "execution_count": 5,
   "id": "96758f91-65f9-4e4b-b213-9cf71e01c91f",
   "metadata": {},
   "outputs": [],
   "source": [
    "with open(\"ads_viewed3.json\") as j:\n",
    "    ads3 = json.load(j)"
   ]
  },
  {
   "cell_type": "code",
   "execution_count": 6,
   "id": "c77f5583-7585-447a-9068-55097d3e39fc",
   "metadata": {},
   "outputs": [],
   "source": [
    "with open(\"ads_viewed4.json\") as j:\n",
    "    ads4 = json.load(j)"
   ]
  },
  {
   "cell_type": "code",
   "execution_count": 7,
   "id": "40ea14b8-9903-4a26-8935-36db7f10cc40",
   "metadata": {},
   "outputs": [],
   "source": [
    "with open(\"ads_viewed5.json\") as j:\n",
    "    ads5 = json.load(j)"
   ]
  },
  {
   "cell_type": "code",
   "execution_count": 8,
   "id": "86bfec85-5600-4eb0-ae57-3a9187dcaca9",
   "metadata": {},
   "outputs": [
    {
     "data": {
      "text/html": [
       "<div>\n",
       "<style scoped>\n",
       "    .dataframe tbody tr th:only-of-type {\n",
       "        vertical-align: middle;\n",
       "    }\n",
       "\n",
       "    .dataframe tbody tr th {\n",
       "        vertical-align: top;\n",
       "    }\n",
       "\n",
       "    .dataframe thead th {\n",
       "        text-align: right;\n",
       "    }\n",
       "</style>\n",
       "<table border=\"1\" class=\"dataframe\">\n",
       "  <thead>\n",
       "    <tr style=\"text-align: right;\">\n",
       "      <th></th>\n",
       "      <th>impressions_history_ads_seen</th>\n",
       "    </tr>\n",
       "  </thead>\n",
       "  <tbody>\n",
       "    <tr>\n",
       "      <th>60</th>\n",
       "      <td>{'string_map_data': {'Author': {'value': 'turb...</td>\n",
       "    </tr>\n",
       "    <tr>\n",
       "      <th>61</th>\n",
       "      <td>{'string_map_data': {'Time': {'timestamp': 171...</td>\n",
       "    </tr>\n",
       "    <tr>\n",
       "      <th>62</th>\n",
       "      <td>{'string_map_data': {'Author': {'value': 'gard...</td>\n",
       "    </tr>\n",
       "    <tr>\n",
       "      <th>63</th>\n",
       "      <td>{'string_map_data': {'Author': {'value': 'mail...</td>\n",
       "    </tr>\n",
       "    <tr>\n",
       "      <th>64</th>\n",
       "      <td>{'string_map_data': {'Author': {'value': 'play...</td>\n",
       "    </tr>\n",
       "  </tbody>\n",
       "</table>\n",
       "</div>"
      ],
      "text/plain": [
       "                         impressions_history_ads_seen\n",
       "60  {'string_map_data': {'Author': {'value': 'turb...\n",
       "61  {'string_map_data': {'Time': {'timestamp': 171...\n",
       "62  {'string_map_data': {'Author': {'value': 'gard...\n",
       "63  {'string_map_data': {'Author': {'value': 'mail...\n",
       "64  {'string_map_data': {'Author': {'value': 'play..."
      ]
     },
     "execution_count": 8,
     "metadata": {},
     "output_type": "execute_result"
    }
   ],
   "source": [
    "df_ads0 = pd.DataFrame(ads0)\n",
    "df_ads0[60:65]"
   ]
  },
  {
   "cell_type": "code",
   "execution_count": 9,
   "id": "633984e0-6c03-4625-9c3a-b348e3db7f69",
   "metadata": {},
   "outputs": [
    {
     "data": {
      "text/plain": [
       "Index(['impressions_history_ads_seen'], dtype='object')"
      ]
     },
     "execution_count": 9,
     "metadata": {},
     "output_type": "execute_result"
    }
   ],
   "source": [
    "df_ads0.keys()"
   ]
  },
  {
   "cell_type": "code",
   "execution_count": 10,
   "id": "17092cb3-d0d7-4a7d-b084-09400dcaa7d2",
   "metadata": {},
   "outputs": [
    {
     "data": {
      "text/plain": [
       "'dunkin'"
      ]
     },
     "execution_count": 10,
     "metadata": {},
     "output_type": "execute_result"
    }
   ],
   "source": [
    "df_ads0['impressions_history_ads_seen'][0]['string_map_data']['Author']['value']"
   ]
  },
  {
   "cell_type": "code",
   "execution_count": 11,
   "id": "d3d51da8-4726-40af-9934-881ef14969a7",
   "metadata": {},
   "outputs": [],
   "source": [
    "temp_list = []\n",
    "for x in df_ads0['impressions_history_ads_seen']:\n",
    "  try:\n",
    "    value = x['string_map_data']['Author']['value']\n",
    "    temp_list.append(value)\n",
    "  except (KeyError, TypeError):\n",
    "    pass"
   ]
  },
  {
   "cell_type": "code",
   "execution_count": 12,
   "id": "b4f94433-2005-4943-937f-e4aa3dc35f87",
   "metadata": {},
   "outputs": [
    {
     "data": {
      "text/html": [
       "<div>\n",
       "<style scoped>\n",
       "    .dataframe tbody tr th:only-of-type {\n",
       "        vertical-align: middle;\n",
       "    }\n",
       "\n",
       "    .dataframe tbody tr th {\n",
       "        vertical-align: top;\n",
       "    }\n",
       "\n",
       "    .dataframe thead th {\n",
       "        text-align: right;\n",
       "    }\n",
       "</style>\n",
       "<table border=\"1\" class=\"dataframe\">\n",
       "  <thead>\n",
       "    <tr style=\"text-align: right;\">\n",
       "      <th></th>\n",
       "      <th>advertiser</th>\n",
       "    </tr>\n",
       "  </thead>\n",
       "  <tbody>\n",
       "    <tr>\n",
       "      <th>0</th>\n",
       "      <td>dunkin</td>\n",
       "    </tr>\n",
       "    <tr>\n",
       "      <th>1</th>\n",
       "      <td>playhousesquare</td>\n",
       "    </tr>\n",
       "    <tr>\n",
       "      <th>2</th>\n",
       "      <td>carecredit</td>\n",
       "    </tr>\n",
       "    <tr>\n",
       "      <th>3</th>\n",
       "      <td>carecredit</td>\n",
       "    </tr>\n",
       "    <tr>\n",
       "      <th>4</th>\n",
       "      <td>cleveorch</td>\n",
       "    </tr>\n",
       "  </tbody>\n",
       "</table>\n",
       "</div>"
      ],
      "text/plain": [
       "        advertiser\n",
       "0           dunkin\n",
       "1  playhousesquare\n",
       "2       carecredit\n",
       "3       carecredit\n",
       "4        cleveorch"
      ]
     },
     "execution_count": 12,
     "metadata": {},
     "output_type": "execute_result"
    }
   ],
   "source": [
    "df_1 = pd.DataFrame({\"advertiser\": temp_list})\n",
    "df_1.head()"
   ]
  },
  {
   "cell_type": "code",
   "execution_count": 13,
   "id": "13ca517d-1ee3-4546-8ef0-740fe671e00b",
   "metadata": {},
   "outputs": [],
   "source": [
    "age_list = [24 for x in df_1['advertiser']]"
   ]
  },
  {
   "cell_type": "code",
   "execution_count": 14,
   "id": "5d4615b2-94ac-4b8b-90ed-87d412559fe5",
   "metadata": {},
   "outputs": [],
   "source": [
    "gender_list = ['Male' for x in df_1['advertiser']]"
   ]
  },
  {
   "cell_type": "code",
   "execution_count": 15,
   "id": "1bc5f636-b699-448c-92a8-b1fecff51312",
   "metadata": {},
   "outputs": [],
   "source": [
    "sexu_list = ['Gay' for x in df_1['advertiser']]"
   ]
  },
  {
   "cell_type": "code",
   "execution_count": 16,
   "id": "7a9b4b04-1132-483f-a0c0-b2b42309737e",
   "metadata": {},
   "outputs": [],
   "source": [
    "user_list = [0 for x in df_1['advertiser']]"
   ]
  },
  {
   "cell_type": "code",
   "execution_count": 17,
   "id": "5d2ecd52-8ce8-4455-9e2d-2851cda7e29f",
   "metadata": {},
   "outputs": [
    {
     "data": {
      "text/html": [
       "<div>\n",
       "<style scoped>\n",
       "    .dataframe tbody tr th:only-of-type {\n",
       "        vertical-align: middle;\n",
       "    }\n",
       "\n",
       "    .dataframe tbody tr th {\n",
       "        vertical-align: top;\n",
       "    }\n",
       "\n",
       "    .dataframe thead th {\n",
       "        text-align: right;\n",
       "    }\n",
       "</style>\n",
       "<table border=\"1\" class=\"dataframe\">\n",
       "  <thead>\n",
       "    <tr style=\"text-align: right;\">\n",
       "      <th></th>\n",
       "      <th>advertiser</th>\n",
       "      <th>Age</th>\n",
       "      <th>Gender</th>\n",
       "      <th>Sexuality</th>\n",
       "      <th>User</th>\n",
       "    </tr>\n",
       "  </thead>\n",
       "  <tbody>\n",
       "    <tr>\n",
       "      <th>316</th>\n",
       "      <td>huntingtonbank</td>\n",
       "      <td>24</td>\n",
       "      <td>Male</td>\n",
       "      <td>Gay</td>\n",
       "      <td>0</td>\n",
       "    </tr>\n",
       "    <tr>\n",
       "      <th>317</th>\n",
       "      <td>sofi</td>\n",
       "      <td>24</td>\n",
       "      <td>Male</td>\n",
       "      <td>Gay</td>\n",
       "      <td>0</td>\n",
       "    </tr>\n",
       "    <tr>\n",
       "      <th>318</th>\n",
       "      <td>behrpro</td>\n",
       "      <td>24</td>\n",
       "      <td>Male</td>\n",
       "      <td>Gay</td>\n",
       "      <td>0</td>\n",
       "    </tr>\n",
       "    <tr>\n",
       "      <th>319</th>\n",
       "      <td>playhousesquare</td>\n",
       "      <td>24</td>\n",
       "      <td>Male</td>\n",
       "      <td>Gay</td>\n",
       "      <td>0</td>\n",
       "    </tr>\n",
       "    <tr>\n",
       "      <th>320</th>\n",
       "      <td>progressive</td>\n",
       "      <td>24</td>\n",
       "      <td>Male</td>\n",
       "      <td>Gay</td>\n",
       "      <td>0</td>\n",
       "    </tr>\n",
       "  </tbody>\n",
       "</table>\n",
       "</div>"
      ],
      "text/plain": [
       "          advertiser  Age Gender Sexuality  User\n",
       "316   huntingtonbank   24   Male       Gay     0\n",
       "317             sofi   24   Male       Gay     0\n",
       "318          behrpro   24   Male       Gay     0\n",
       "319  playhousesquare   24   Male       Gay     0\n",
       "320      progressive   24   Male       Gay     0"
      ]
     },
     "execution_count": 17,
     "metadata": {},
     "output_type": "execute_result"
    }
   ],
   "source": [
    "df_1['Age'] = age_list\n",
    "df_1['Gender'] = gender_list\n",
    "df_1['Sexuality'] = sexu_list\n",
    "df_1['User'] = user_list\n",
    "df_1.tail()"
   ]
  },
  {
   "cell_type": "code",
   "execution_count": 18,
   "id": "bfeb50ce-00b6-4d6a-8d56-633fad61027c",
   "metadata": {},
   "outputs": [],
   "source": [
    "df_ads1 = pd.DataFrame(ads1)\n",
    "temp_list = []\n",
    "for x in df_ads1['impressions_history_ads_seen']:\n",
    "  try:\n",
    "    value = x['string_map_data']['Author']['value']\n",
    "    temp_list.append(value)\n",
    "  except (KeyError, TypeError):\n",
    "    pass\n"
   ]
  },
  {
   "cell_type": "code",
   "execution_count": 19,
   "id": "1153de81-125d-46cd-a3a4-aa2dafd2bd4a",
   "metadata": {},
   "outputs": [
    {
     "data": {
      "text/html": [
       "<div>\n",
       "<style scoped>\n",
       "    .dataframe tbody tr th:only-of-type {\n",
       "        vertical-align: middle;\n",
       "    }\n",
       "\n",
       "    .dataframe tbody tr th {\n",
       "        vertical-align: top;\n",
       "    }\n",
       "\n",
       "    .dataframe thead th {\n",
       "        text-align: right;\n",
       "    }\n",
       "</style>\n",
       "<table border=\"1\" class=\"dataframe\">\n",
       "  <thead>\n",
       "    <tr style=\"text-align: right;\">\n",
       "      <th></th>\n",
       "      <th>advertiser</th>\n",
       "      <th>Age</th>\n",
       "      <th>Gender</th>\n",
       "      <th>Sexuality</th>\n",
       "      <th>User</th>\n",
       "    </tr>\n",
       "  </thead>\n",
       "  <tbody>\n",
       "    <tr>\n",
       "      <th>57</th>\n",
       "      <td>kittenfy_co</td>\n",
       "      <td>22</td>\n",
       "      <td>Male</td>\n",
       "      <td>Bisexual</td>\n",
       "      <td>1</td>\n",
       "    </tr>\n",
       "    <tr>\n",
       "      <th>58</th>\n",
       "      <td>codewallets</td>\n",
       "      <td>22</td>\n",
       "      <td>Male</td>\n",
       "      <td>Bisexual</td>\n",
       "      <td>1</td>\n",
       "    </tr>\n",
       "    <tr>\n",
       "      <th>59</th>\n",
       "      <td>thefallguymovie</td>\n",
       "      <td>22</td>\n",
       "      <td>Male</td>\n",
       "      <td>Bisexual</td>\n",
       "      <td>1</td>\n",
       "    </tr>\n",
       "    <tr>\n",
       "      <th>60</th>\n",
       "      <td>fableticsmen</td>\n",
       "      <td>22</td>\n",
       "      <td>Male</td>\n",
       "      <td>Bisexual</td>\n",
       "      <td>1</td>\n",
       "    </tr>\n",
       "    <tr>\n",
       "      <th>61</th>\n",
       "      <td>angela_fashionsis_</td>\n",
       "      <td>22</td>\n",
       "      <td>Male</td>\n",
       "      <td>Bisexual</td>\n",
       "      <td>1</td>\n",
       "    </tr>\n",
       "  </tbody>\n",
       "</table>\n",
       "</div>"
      ],
      "text/plain": [
       "            advertiser  Age Gender Sexuality  User\n",
       "57         kittenfy_co   22   Male  Bisexual     1\n",
       "58         codewallets   22   Male  Bisexual     1\n",
       "59     thefallguymovie   22   Male  Bisexual     1\n",
       "60        fableticsmen   22   Male  Bisexual     1\n",
       "61  angela_fashionsis_   22   Male  Bisexual     1"
      ]
     },
     "execution_count": 19,
     "metadata": {},
     "output_type": "execute_result"
    }
   ],
   "source": [
    "df_0 = pd.DataFrame({\"advertiser\": temp_list})\n",
    "age_list = [22 for x in df_0['advertiser']]\n",
    "gender_list = ['Male' for x in df_0['advertiser']]\n",
    "sexu_list = ['Bisexual' for x in df_0['advertiser']]\n",
    "user_list = [1 for x in df_0['advertiser']]\n",
    "df_0['Age'] = age_list\n",
    "df_0['Gender'] = gender_list\n",
    "df_0['Sexuality'] = sexu_list\n",
    "df_0['User'] = user_list\n",
    "df_0.tail()"
   ]
  },
  {
   "cell_type": "code",
   "execution_count": 20,
   "id": "2f7e8cfa-f870-436d-88bf-a886d6fe2628",
   "metadata": {},
   "outputs": [],
   "source": [
    "df_ads2 = pd.DataFrame(ads2)\n",
    "temp_list = []\n",
    "for x in df_ads2['impressions_history_ads_seen']:\n",
    "  try:\n",
    "    value = x['string_map_data']['Author']['value']\n",
    "    temp_list.append(value)\n",
    "  except (KeyError, TypeError):\n",
    "    pass"
   ]
  },
  {
   "cell_type": "code",
   "execution_count": 21,
   "id": "249bed41-9251-4ecb-8ac1-754812c803dc",
   "metadata": {},
   "outputs": [
    {
     "data": {
      "text/html": [
       "<div>\n",
       "<style scoped>\n",
       "    .dataframe tbody tr th:only-of-type {\n",
       "        vertical-align: middle;\n",
       "    }\n",
       "\n",
       "    .dataframe tbody tr th {\n",
       "        vertical-align: top;\n",
       "    }\n",
       "\n",
       "    .dataframe thead th {\n",
       "        text-align: right;\n",
       "    }\n",
       "</style>\n",
       "<table border=\"1\" class=\"dataframe\">\n",
       "  <thead>\n",
       "    <tr style=\"text-align: right;\">\n",
       "      <th></th>\n",
       "      <th>advertiser</th>\n",
       "      <th>Age</th>\n",
       "      <th>Gender</th>\n",
       "      <th>Sexuality</th>\n",
       "      <th>User</th>\n",
       "    </tr>\n",
       "  </thead>\n",
       "  <tbody>\n",
       "    <tr>\n",
       "      <th>91</th>\n",
       "      <td>dreamclothinghq</td>\n",
       "      <td>21</td>\n",
       "      <td>Male</td>\n",
       "      <td>Bisexual</td>\n",
       "      <td>2</td>\n",
       "    </tr>\n",
       "    <tr>\n",
       "      <th>92</th>\n",
       "      <td>killcrew</td>\n",
       "      <td>21</td>\n",
       "      <td>Male</td>\n",
       "      <td>Bisexual</td>\n",
       "      <td>2</td>\n",
       "    </tr>\n",
       "    <tr>\n",
       "      <th>93</th>\n",
       "      <td>caramelsdotcom</td>\n",
       "      <td>21</td>\n",
       "      <td>Male</td>\n",
       "      <td>Bisexual</td>\n",
       "      <td>2</td>\n",
       "    </tr>\n",
       "    <tr>\n",
       "      <th>94</th>\n",
       "      <td>betterhelp</td>\n",
       "      <td>21</td>\n",
       "      <td>Male</td>\n",
       "      <td>Bisexual</td>\n",
       "      <td>2</td>\n",
       "    </tr>\n",
       "    <tr>\n",
       "      <th>95</th>\n",
       "      <td>happinessproject</td>\n",
       "      <td>21</td>\n",
       "      <td>Male</td>\n",
       "      <td>Bisexual</td>\n",
       "      <td>2</td>\n",
       "    </tr>\n",
       "  </tbody>\n",
       "</table>\n",
       "</div>"
      ],
      "text/plain": [
       "          advertiser  Age Gender Sexuality  User\n",
       "91   dreamclothinghq   21   Male  Bisexual     2\n",
       "92          killcrew   21   Male  Bisexual     2\n",
       "93    caramelsdotcom   21   Male  Bisexual     2\n",
       "94        betterhelp   21   Male  Bisexual     2\n",
       "95  happinessproject   21   Male  Bisexual     2"
      ]
     },
     "execution_count": 21,
     "metadata": {},
     "output_type": "execute_result"
    }
   ],
   "source": [
    "df_2 = pd.DataFrame({\"advertiser\": temp_list})\n",
    "age_list = [21 for x in df_2['advertiser']]\n",
    "gender_list = ['Male' for x in df_2['advertiser']]\n",
    "sexu_list = ['Bisexual' for x in df_2['advertiser']]\n",
    "user_list = [2 for x in df_2['advertiser']]\n",
    "df_2['Age'] = age_list\n",
    "df_2['Gender'] = gender_list\n",
    "df_2['Sexuality'] = sexu_list\n",
    "df_2['User'] = user_list\n",
    "df_2.tail()"
   ]
  },
  {
   "cell_type": "code",
   "execution_count": 22,
   "id": "8b3ebbf9-2b5d-4045-95ec-678884ebaa19",
   "metadata": {},
   "outputs": [],
   "source": [
    "df_ads3 = pd.DataFrame(ads3)\n",
    "temp_list = []\n",
    "for x in df_ads3['impressions_history_ads_seen']:\n",
    "  try:\n",
    "    value = x['string_map_data']['Author']['value']\n",
    "    temp_list.append(value)\n",
    "  except (KeyError, TypeError):\n",
    "    pass"
   ]
  },
  {
   "cell_type": "code",
   "execution_count": 23,
   "id": "1fd55e13-3e52-473d-b84a-dcf610d1c285",
   "metadata": {},
   "outputs": [
    {
     "data": {
      "text/html": [
       "<div>\n",
       "<style scoped>\n",
       "    .dataframe tbody tr th:only-of-type {\n",
       "        vertical-align: middle;\n",
       "    }\n",
       "\n",
       "    .dataframe tbody tr th {\n",
       "        vertical-align: top;\n",
       "    }\n",
       "\n",
       "    .dataframe thead th {\n",
       "        text-align: right;\n",
       "    }\n",
       "</style>\n",
       "<table border=\"1\" class=\"dataframe\">\n",
       "  <thead>\n",
       "    <tr style=\"text-align: right;\">\n",
       "      <th></th>\n",
       "      <th>advertiser</th>\n",
       "      <th>Age</th>\n",
       "      <th>Gender</th>\n",
       "      <th>Sexuality</th>\n",
       "      <th>User</th>\n",
       "    </tr>\n",
       "  </thead>\n",
       "  <tbody>\n",
       "    <tr>\n",
       "      <th>33</th>\n",
       "      <td>bottomsupmovement</td>\n",
       "      <td>23</td>\n",
       "      <td>Male</td>\n",
       "      <td>Gay</td>\n",
       "      <td>3</td>\n",
       "    </tr>\n",
       "    <tr>\n",
       "      <th>34</th>\n",
       "      <td>joydiia.rave</td>\n",
       "      <td>23</td>\n",
       "      <td>Male</td>\n",
       "      <td>Gay</td>\n",
       "      <td>3</td>\n",
       "    </tr>\n",
       "    <tr>\n",
       "      <th>35</th>\n",
       "      <td>343labs</td>\n",
       "      <td>23</td>\n",
       "      <td>Male</td>\n",
       "      <td>Gay</td>\n",
       "      <td>3</td>\n",
       "    </tr>\n",
       "    <tr>\n",
       "      <th>36</th>\n",
       "      <td>stylishvibes_stella</td>\n",
       "      <td>23</td>\n",
       "      <td>Male</td>\n",
       "      <td>Gay</td>\n",
       "      <td>3</td>\n",
       "    </tr>\n",
       "    <tr>\n",
       "      <th>37</th>\n",
       "      <td>animatecolumbus</td>\n",
       "      <td>23</td>\n",
       "      <td>Male</td>\n",
       "      <td>Gay</td>\n",
       "      <td>3</td>\n",
       "    </tr>\n",
       "  </tbody>\n",
       "</table>\n",
       "</div>"
      ],
      "text/plain": [
       "             advertiser  Age Gender Sexuality  User\n",
       "33    bottomsupmovement   23   Male       Gay     3\n",
       "34         joydiia.rave   23   Male       Gay     3\n",
       "35              343labs   23   Male       Gay     3\n",
       "36  stylishvibes_stella   23   Male       Gay     3\n",
       "37      animatecolumbus   23   Male       Gay     3"
      ]
     },
     "execution_count": 23,
     "metadata": {},
     "output_type": "execute_result"
    }
   ],
   "source": [
    "df_3 = pd.DataFrame({\"advertiser\": temp_list})\n",
    "age_list = [23 for x in df_3['advertiser']]\n",
    "gender_list = ['Male' for x in df_3['advertiser']]\n",
    "sexu_list = ['Gay' for x in df_3['advertiser']]\n",
    "user_list = [3 for x in df_3['advertiser']]\n",
    "df_3['Age'] = age_list\n",
    "df_3['Gender'] = gender_list\n",
    "df_3['Sexuality'] = sexu_list\n",
    "df_3['User'] = user_list\n",
    "df_3.tail()"
   ]
  },
  {
   "cell_type": "code",
   "execution_count": 24,
   "id": "eea71629-db76-4f9c-b974-d34865bd6e66",
   "metadata": {},
   "outputs": [],
   "source": [
    "df_ads4 = pd.DataFrame(ads4)\n",
    "temp_list = []\n",
    "for x in df_ads4['impressions_history_ads_seen']:\n",
    "  try:\n",
    "    value = x['string_map_data']['Author']['value']\n",
    "    temp_list.append(value)\n",
    "  except (KeyError, TypeError):\n",
    "    pass"
   ]
  },
  {
   "cell_type": "code",
   "execution_count": 25,
   "id": "ded1299e-781d-49fb-ac17-3a1caea834d4",
   "metadata": {},
   "outputs": [
    {
     "data": {
      "text/html": [
       "<div>\n",
       "<style scoped>\n",
       "    .dataframe tbody tr th:only-of-type {\n",
       "        vertical-align: middle;\n",
       "    }\n",
       "\n",
       "    .dataframe tbody tr th {\n",
       "        vertical-align: top;\n",
       "    }\n",
       "\n",
       "    .dataframe thead th {\n",
       "        text-align: right;\n",
       "    }\n",
       "</style>\n",
       "<table border=\"1\" class=\"dataframe\">\n",
       "  <thead>\n",
       "    <tr style=\"text-align: right;\">\n",
       "      <th></th>\n",
       "      <th>advertiser</th>\n",
       "      <th>Age</th>\n",
       "      <th>Gender</th>\n",
       "      <th>Sexuality</th>\n",
       "      <th>User</th>\n",
       "    </tr>\n",
       "  </thead>\n",
       "  <tbody>\n",
       "    <tr>\n",
       "      <th>61</th>\n",
       "      <td>aswemove</td>\n",
       "      <td>25</td>\n",
       "      <td>Male</td>\n",
       "      <td>Straight</td>\n",
       "      <td>4</td>\n",
       "    </tr>\n",
       "    <tr>\n",
       "      <th>62</th>\n",
       "      <td>trynood</td>\n",
       "      <td>25</td>\n",
       "      <td>Male</td>\n",
       "      <td>Straight</td>\n",
       "      <td>4</td>\n",
       "    </tr>\n",
       "    <tr>\n",
       "      <th>63</th>\n",
       "      <td>pearljam</td>\n",
       "      <td>25</td>\n",
       "      <td>Male</td>\n",
       "      <td>Straight</td>\n",
       "      <td>4</td>\n",
       "    </tr>\n",
       "    <tr>\n",
       "      <th>64</th>\n",
       "      <td>dexcom</td>\n",
       "      <td>25</td>\n",
       "      <td>Male</td>\n",
       "      <td>Straight</td>\n",
       "      <td>4</td>\n",
       "    </tr>\n",
       "    <tr>\n",
       "      <th>65</th>\n",
       "      <td>snapfitnesskent1</td>\n",
       "      <td>25</td>\n",
       "      <td>Male</td>\n",
       "      <td>Straight</td>\n",
       "      <td>4</td>\n",
       "    </tr>\n",
       "  </tbody>\n",
       "</table>\n",
       "</div>"
      ],
      "text/plain": [
       "          advertiser  Age Gender Sexuality  User\n",
       "61          aswemove   25   Male  Straight     4\n",
       "62           trynood   25   Male  Straight     4\n",
       "63          pearljam   25   Male  Straight     4\n",
       "64            dexcom   25   Male  Straight     4\n",
       "65  snapfitnesskent1   25   Male  Straight     4"
      ]
     },
     "execution_count": 25,
     "metadata": {},
     "output_type": "execute_result"
    }
   ],
   "source": [
    "df_4 = pd.DataFrame({\"advertiser\": temp_list})\n",
    "age_list = [25 for x in df_4['advertiser']]\n",
    "gender_list = ['Male' for x in df_4['advertiser']]\n",
    "sexu_list = ['Straight' for x in df_4['advertiser']]\n",
    "user_list = [4 for x in df_4['advertiser']]\n",
    "df_4['Age'] = age_list\n",
    "df_4['Gender'] = gender_list\n",
    "df_4['Sexuality'] = sexu_list\n",
    "df_4['User'] = user_list\n",
    "df_4.tail()"
   ]
  },
  {
   "cell_type": "code",
   "execution_count": 26,
   "id": "5942f71c-b781-4de0-aa75-300cc941aad8",
   "metadata": {},
   "outputs": [],
   "source": [
    "df_ads5 = pd.DataFrame(ads5)\n",
    "temp_list = []\n",
    "for x in df_ads5['impressions_history_ads_seen']:\n",
    "  try:\n",
    "    value = x['string_map_data']['Author']['value']\n",
    "    temp_list.append(value)\n",
    "  except (KeyError, TypeError):\n",
    "    pass"
   ]
  },
  {
   "cell_type": "code",
   "execution_count": 27,
   "id": "d17f06cc-9bd2-4046-8747-4878de1e53b6",
   "metadata": {},
   "outputs": [
    {
     "data": {
      "text/html": [
       "<div>\n",
       "<style scoped>\n",
       "    .dataframe tbody tr th:only-of-type {\n",
       "        vertical-align: middle;\n",
       "    }\n",
       "\n",
       "    .dataframe tbody tr th {\n",
       "        vertical-align: top;\n",
       "    }\n",
       "\n",
       "    .dataframe thead th {\n",
       "        text-align: right;\n",
       "    }\n",
       "</style>\n",
       "<table border=\"1\" class=\"dataframe\">\n",
       "  <thead>\n",
       "    <tr style=\"text-align: right;\">\n",
       "      <th></th>\n",
       "      <th>advertiser</th>\n",
       "      <th>Age</th>\n",
       "      <th>Gender</th>\n",
       "      <th>Sexuality</th>\n",
       "      <th>User</th>\n",
       "    </tr>\n",
       "  </thead>\n",
       "  <tbody>\n",
       "    <tr>\n",
       "      <th>82</th>\n",
       "      <td>lightslacquer</td>\n",
       "      <td>24</td>\n",
       "      <td>Female</td>\n",
       "      <td>Straight</td>\n",
       "      <td>5</td>\n",
       "    </tr>\n",
       "    <tr>\n",
       "      <th>83</th>\n",
       "      <td>gourmandbeauty</td>\n",
       "      <td>24</td>\n",
       "      <td>Female</td>\n",
       "      <td>Straight</td>\n",
       "      <td>5</td>\n",
       "    </tr>\n",
       "    <tr>\n",
       "      <th>84</th>\n",
       "      <td>gourmandbeauty</td>\n",
       "      <td>24</td>\n",
       "      <td>Female</td>\n",
       "      <td>Straight</td>\n",
       "      <td>5</td>\n",
       "    </tr>\n",
       "    <tr>\n",
       "      <th>85</th>\n",
       "      <td>shipyardgamesofficial</td>\n",
       "      <td>24</td>\n",
       "      <td>Female</td>\n",
       "      <td>Straight</td>\n",
       "      <td>5</td>\n",
       "    </tr>\n",
       "    <tr>\n",
       "      <th>86</th>\n",
       "      <td>nonosesinc</td>\n",
       "      <td>24</td>\n",
       "      <td>Female</td>\n",
       "      <td>Straight</td>\n",
       "      <td>5</td>\n",
       "    </tr>\n",
       "  </tbody>\n",
       "</table>\n",
       "</div>"
      ],
      "text/plain": [
       "               advertiser  Age  Gender Sexuality  User\n",
       "82          lightslacquer   24  Female  Straight     5\n",
       "83         gourmandbeauty   24  Female  Straight     5\n",
       "84         gourmandbeauty   24  Female  Straight     5\n",
       "85  shipyardgamesofficial   24  Female  Straight     5\n",
       "86             nonosesinc   24  Female  Straight     5"
      ]
     },
     "execution_count": 27,
     "metadata": {},
     "output_type": "execute_result"
    }
   ],
   "source": [
    "df_5 = pd.DataFrame({\"advertiser\": temp_list})\n",
    "age_list = [24 for x in df_5['advertiser']]\n",
    "gender_list = ['Female' for x in df_5['advertiser']]\n",
    "sexu_list = ['Straight' for x in df_5['advertiser']]\n",
    "user_list = [5 for x in df_5['advertiser']]\n",
    "df_5['Age'] = age_list\n",
    "df_5['Gender'] = gender_list\n",
    "df_5['Sexuality'] = sexu_list\n",
    "df_5['User'] = user_list\n",
    "df_5.tail()"
   ]
  },
  {
   "cell_type": "code",
   "execution_count": 29,
   "id": "18d5b680-34ff-4117-bf41-4ec7aacf813b",
   "metadata": {},
   "outputs": [
    {
     "data": {
      "text/html": [
       "<div>\n",
       "<style scoped>\n",
       "    .dataframe tbody tr th:only-of-type {\n",
       "        vertical-align: middle;\n",
       "    }\n",
       "\n",
       "    .dataframe tbody tr th {\n",
       "        vertical-align: top;\n",
       "    }\n",
       "\n",
       "    .dataframe thead th {\n",
       "        text-align: right;\n",
       "    }\n",
       "</style>\n",
       "<table border=\"1\" class=\"dataframe\">\n",
       "  <thead>\n",
       "    <tr style=\"text-align: right;\">\n",
       "      <th></th>\n",
       "      <th>advertiser</th>\n",
       "      <th>Age</th>\n",
       "      <th>Gender</th>\n",
       "      <th>Sexuality</th>\n",
       "      <th>User</th>\n",
       "    </tr>\n",
       "  </thead>\n",
       "  <tbody>\n",
       "    <tr>\n",
       "      <th>0</th>\n",
       "      <td>northernroyal</td>\n",
       "      <td>22</td>\n",
       "      <td>Male</td>\n",
       "      <td>Bisexual</td>\n",
       "      <td>1</td>\n",
       "    </tr>\n",
       "    <tr>\n",
       "      <th>1</th>\n",
       "      <td>pirategoldpokerusa</td>\n",
       "      <td>22</td>\n",
       "      <td>Male</td>\n",
       "      <td>Bisexual</td>\n",
       "      <td>1</td>\n",
       "    </tr>\n",
       "    <tr>\n",
       "      <th>2</th>\n",
       "      <td>turbotax</td>\n",
       "      <td>22</td>\n",
       "      <td>Male</td>\n",
       "      <td>Bisexual</td>\n",
       "      <td>1</td>\n",
       "    </tr>\n",
       "    <tr>\n",
       "      <th>3</th>\n",
       "      <td>davidoutwear</td>\n",
       "      <td>22</td>\n",
       "      <td>Male</td>\n",
       "      <td>Bisexual</td>\n",
       "      <td>1</td>\n",
       "    </tr>\n",
       "    <tr>\n",
       "      <th>4</th>\n",
       "      <td>goods.guru</td>\n",
       "      <td>22</td>\n",
       "      <td>Male</td>\n",
       "      <td>Bisexual</td>\n",
       "      <td>1</td>\n",
       "    </tr>\n",
       "  </tbody>\n",
       "</table>\n",
       "</div>"
      ],
      "text/plain": [
       "           advertiser  Age Gender Sexuality  User\n",
       "0       northernroyal   22   Male  Bisexual     1\n",
       "1  pirategoldpokerusa   22   Male  Bisexual     1\n",
       "2            turbotax   22   Male  Bisexual     1\n",
       "3        davidoutwear   22   Male  Bisexual     1\n",
       "4          goods.guru   22   Male  Bisexual     1"
      ]
     },
     "execution_count": 29,
     "metadata": {},
     "output_type": "execute_result"
    }
   ],
   "source": [
    "ads_viewed = pd.concat([df_0, df_1, df_2, df_3, df_4, df_5], ignore_index=True, sort=False)\n",
    "ads_viewed.head()"
   ]
  },
  {
   "cell_type": "code",
   "execution_count": 33,
   "id": "71d2fe67-e8eb-4d44-9858-f9e16f3122e5",
   "metadata": {},
   "outputs": [],
   "source": [
    "ads_test = ads_viewed.groupby('advertiser').User.nunique()"
   ]
  },
  {
   "cell_type": "code",
   "execution_count": 37,
   "id": "dd464bc6-62bb-43a1-9495-07aa9077c173",
   "metadata": {},
   "outputs": [
    {
     "data": {
      "text/plain": [
       "pandas.core.series.Series"
      ]
     },
     "execution_count": 37,
     "metadata": {},
     "output_type": "execute_result"
    }
   ],
   "source": [
    "type(ads_test)"
   ]
  },
  {
   "cell_type": "code",
   "execution_count": 38,
   "id": "bc2441db-40f6-4130-babb-6d9b92ab91bb",
   "metadata": {},
   "outputs": [
    {
     "data": {
      "text/plain": [
       "advertiser\n",
       "turbotax            3\n",
       "fableticsmen        2\n",
       "converse            2\n",
       "kittenfy_co         2\n",
       "americanspikedco    2\n",
       "Name: User, dtype: int64"
      ]
     },
     "execution_count": 38,
     "metadata": {},
     "output_type": "execute_result"
    }
   ],
   "source": [
    "ads_test2 = ads_test.sort_values(ascending = False)\n",
    "ads_test2.head()"
   ]
  },
  {
   "cell_type": "code",
   "execution_count": null,
   "id": "68644c62-a115-4fdf-88f2-7a88394048df",
   "metadata": {},
   "outputs": [],
   "source": []
  }
 ],
 "metadata": {
  "kernelspec": {
   "display_name": "Python 3 (ipykernel)",
   "language": "python",
   "name": "python3"
  },
  "language_info": {
   "codemirror_mode": {
    "name": "ipython",
    "version": 3
   },
   "file_extension": ".py",
   "mimetype": "text/x-python",
   "name": "python",
   "nbconvert_exporter": "python",
   "pygments_lexer": "ipython3",
   "version": "3.12.1"
  }
 },
 "nbformat": 4,
 "nbformat_minor": 5
}
